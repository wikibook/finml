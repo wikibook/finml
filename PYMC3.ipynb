{
 "cells": [
  {
   "cell_type": "code",
   "execution_count": null,
   "metadata": {
    "_cell_guid": "b1076dfc-b9ad-4769-8c92-a6c4dae69d19",
    "_uuid": "8f2839f25d086af736a60e9eeb907d3b93b6e0e5"
   },
   "outputs": [],
   "source": [
    "import numpy as np # linear algebra\n",
    "import pandas as pd # data processing, CSV file I/O (e.g. pd.read_csv)\n",
    "import matplotlib.pyplot as plt\n",
    "%matplotlib inline\n",
    "plt.rcParams[\"figure.figsize\"] = (10,7)"
   ]
  },
  {
   "cell_type": "code",
   "execution_count": null,
   "metadata": {
    "_cell_guid": "79c7e3d0-c299-4dcb-8224-4455121ee9b0",
    "_uuid": "d629ff2d2480ee46fbb7e2d37f6b5fab8052498a"
   },
   "outputs": [],
   "source": [
    "df = pd.read_csv('../input/S&P.csv')\n",
    "df['Date'] = pd.to_datetime(df['Date'])"
   ]
  },
  {
   "cell_type": "code",
   "execution_count": null,
   "metadata": {
    "_uuid": "5ae425d3edf68017b9efbebfd616283ced3768c6"
   },
   "outputs": [],
   "source": [
    "close = pd.Series(df.Close.values,index=pd.DatetimeIndex(df.Date))\n",
    "close = close[::-1]"
   ]
  },
  {
   "cell_type": "code",
   "execution_count": null,
   "metadata": {
    "_uuid": "10f921e1fe5546173df6ea82b1b84d16cae518ed"
   },
   "outputs": [],
   "source": [
    "close.plot(title='S&P 500 From Inception');"
   ]
  },
  {
   "cell_type": "code",
   "execution_count": null,
   "metadata": {
    "_uuid": "5d0fedf72e3125748326f84573fd06400a562d78"
   },
   "outputs": [],
   "source": [
    "close = close['1990-01-01':]"
   ]
  },
  {
   "cell_type": "code",
   "execution_count": null,
   "metadata": {
    "_uuid": "1e1931745b36bea83409dcf6c7f0858c14f802cd"
   },
   "outputs": [],
   "source": [
    "returns = pd.Series(np.diff(close.values),index=close.index[1:])"
   ]
  },
  {
   "cell_type": "code",
   "execution_count": null,
   "metadata": {
    "_uuid": "4ad3366b588c2320c736f9d8ef593fbb307c44c0"
   },
   "outputs": [],
   "source": [
    "returns.plot();"
   ]
  },
  {
   "cell_type": "code",
   "execution_count": null,
   "metadata": {
    "_uuid": "02433bf3173ca2384d7c6af24dc2bc937cb90a86"
   },
   "outputs": [],
   "source": [
    "import pymc3 as pm\n",
    "from pymc3.distributions.timeseries import GaussianRandomWalk"
   ]
  },
  {
   "cell_type": "code",
   "execution_count": null,
   "metadata": {
    "_uuid": "127243bf826fad91eeff086646ba03a47b4d9fea"
   },
   "outputs": [],
   "source": [
    "with pm.Model() as model:\n",
    "    step_size = pm.Exponential('sigma', 50.) #1\n",
    "    s = GaussianRandomWalk('s', sd=step_size, #2\n",
    "                           shape=len(returns))\n",
    "\n",
    "    nu = pm.Exponential('nu', .1) #3\n",
    "\n",
    "    r = pm.StudentT('r', nu=nu, #4\n",
    "                    lam=pm.math.exp(-2*s),\n",
    "                    observed=returns.values)"
   ]
  },
  {
   "cell_type": "code",
   "execution_count": null,
   "metadata": {
    "_uuid": "ff4da7998b7508da88359ec2a153a2ce78f2cacb"
   },
   "outputs": [],
   "source": [
    "with model:\n",
    "    trace = pm.sample(tune=2000, nuts_kwargs=dict(target_accept=.9))"
   ]
  },
  {
   "cell_type": "code",
   "execution_count": null,
   "metadata": {
    "_uuid": "3aa6c7ff77ae10c1d76511b5d81f993d295286ca"
   },
   "outputs": [],
   "source": [
    "pm.traceplot(trace, varnames=['sigma', 'nu']);"
   ]
  },
  {
   "cell_type": "code",
   "execution_count": null,
   "metadata": {
    "_uuid": "8eda45bcb2f246d2d410c3c4593f88b6c05b4b38"
   },
   "outputs": [],
   "source": [
    "plt.plot(returns.values)\n",
    "plt.plot(np.exp(trace[s].T), 'r', alpha=.03);\n",
    "plt.xlabel('time') \n",
    "plt.ylabel('returns')\n",
    "plt.legend(['S&P500', 'Stochastic Vol.']);"
   ]
  },
  {
   "cell_type": "code",
   "execution_count": null,
   "metadata": {
    "_uuid": "036aa21850565b201c5a902a1de8db7165ca64cf"
   },
   "outputs": [],
   "source": []
  }
 ],
 "metadata": {
  "kernelspec": {
   "display_name": "Python [default]",
   "language": "python",
   "name": "python3"
  },
  "language_info": {
   "codemirror_mode": {
    "name": "ipython",
    "version": 3
   },
   "file_extension": ".py",
   "mimetype": "text/x-python",
   "name": "python",
   "nbconvert_exporter": "python",
   "pygments_lexer": "ipython3",
   "version": "3.6.6"
  }
 },
 "nbformat": 4,
 "nbformat_minor": 1
}
