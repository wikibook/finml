{
  "nbformat": 4,
  "nbformat_minor": 0,
  "metadata": {
    "colab": {
      "name": "LR Search.ipynb",
      "version": "0.3.2",
      "views": {},
      "default_view": {},
      "provenance": []
    },
    "kernelspec": {
      "name": "python3",
      "display_name": "Python 3"
    }
  },
  "cells": [
    {
      "metadata": {
        "id": "m0HxmCDXrCZJ",
        "colab_type": "code",
        "colab": {
          "autoexec": {
            "startup": false,
            "wait_interval": 0
          }
        }
      },
      "cell_type": "code",
      "source": [
        "%matplotlib inline"
      ],
      "execution_count": 0,
      "outputs": []
    },
    {
      "metadata": {
        "id": "-gr4suLdrEBI",
        "colab_type": "code",
        "colab": {
          "autoexec": {
            "startup": false,
            "wait_interval": 0
          }
        }
      },
      "cell_type": "code",
      "source": [
        "import numpy as np\n",
        "import matplotlib.pyplot as plt\n",
        "plt.rcParams['figure.figsize'] = (7,7) # Make the figures a bit bigger\n",
        "\n",
        "from keras.datasets import mnist\n",
        "from keras.models import Sequential\n",
        "from keras.layers.core import Dense, Dropout, Activation\n",
        "from keras.utils import np_utils"
      ],
      "execution_count": 0,
      "outputs": []
    },
    {
      "metadata": {
        "id": "kQApfw9IrFvP",
        "colab_type": "code",
        "colab": {
          "autoexec": {
            "startup": false,
            "wait_interval": 0
          },
          "base_uri": "https://localhost:8080/",
          "height": 51
        },
        "outputId": "d6ff9f55-5e2d-43fe-e89b-c26af744bf0d",
        "executionInfo": {
          "status": "ok",
          "timestamp": 1528032009983,
          "user_tz": -120,
          "elapsed": 710,
          "user": {
            "displayName": "Jannes Klaas",
            "photoUrl": "https://lh3.googleusercontent.com/a/default-user=s128",
            "userId": "115843019312458301179"
          }
        }
      },
      "cell_type": "code",
      "source": [
        "nb_classes = 10\n",
        "\n",
        "# the data, shuffled and split between tran and test sets\n",
        "(X_train, y_train), (X_test, y_test) = mnist.load_data()\n",
        "print(\"X_train original shape\", X_train.shape)\n",
        "print(\"y_train original shape\", y_train.shape)"
      ],
      "execution_count": 22,
      "outputs": [
        {
          "output_type": "stream",
          "text": [
            "X_train original shape (60000, 28, 28)\n",
            "y_train original shape (60000,)\n"
          ],
          "name": "stdout"
        }
      ]
    },
    {
      "metadata": {
        "id": "oDUpOuX0rH0_",
        "colab_type": "code",
        "colab": {
          "autoexec": {
            "startup": false,
            "wait_interval": 0
          },
          "base_uri": "https://localhost:8080/",
          "height": 443
        },
        "outputId": "be281d82-334b-4910-ec13-95558840341f",
        "executionInfo": {
          "status": "ok",
          "timestamp": 1528032011395,
          "user_tz": -120,
          "elapsed": 1218,
          "user": {
            "displayName": "Jannes Klaas",
            "photoUrl": "https://lh3.googleusercontent.com/a/default-user=s128",
            "userId": "115843019312458301179"
          }
        }
      },
      "cell_type": "code",
      "source": [
        "for i in range(9):\n",
        "    plt.subplot(3,3,i+1)\n",
        "    plt.imshow(X_train[i], cmap='gray', interpolation='none')\n",
        "    plt.title(\"Class {}\".format(y_train[i]))"
      ],
      "execution_count": 23,
      "outputs": [
        {
          "output_type": "display_data",
          "data": {
            "image/png": "[encoded data removed]",
            "text/plain": [
              "<matplotlib.figure.Figure at 0x7f4c621507b8>"
            ]
          },
          "metadata": {
            "tags": []
          }
        }
      ]
    },
    {
      "metadata": {
        "id": "mUxLKgForJkn",
        "colab_type": "code",
        "colab": {
          "autoexec": {
            "startup": false,
            "wait_interval": 0
          },
          "base_uri": "https://localhost:8080/",
          "height": 51
        },
        "outputId": "5f547a11-83f6-462d-8a51-642a3a2b1b45",
        "executionInfo": {
          "status": "ok",
          "timestamp": 1528032011919,
          "user_tz": -120,
          "elapsed": 498,
          "user": {
            "displayName": "Jannes Klaas",
            "photoUrl": "https://lh3.googleusercontent.com/a/default-user=s128",
            "userId": "115843019312458301179"
          }
        }
      },
      "cell_type": "code",
      "source": [
        "X_train = X_train.reshape(60000, 784)\n",
        "X_test = X_test.reshape(10000, 784)\n",
        "X_train = X_train.astype('float32')\n",
        "X_test = X_test.astype('float32')\n",
        "X_train /= 255\n",
        "X_test /= 255\n",
        "print(\"Training matrix shape\", X_train.shape)\n",
        "print(\"Testing matrix shape\", X_test.shape)"
      ],
      "execution_count": 24,
      "outputs": [
        {
          "output_type": "stream",
          "text": [
            "Training matrix shape (60000, 784)\n",
            "Testing matrix shape (10000, 784)\n"
          ],
          "name": "stdout"
        }
      ]
    },
    {
      "metadata": {
        "id": "bJCFrPAzrLeu",
        "colab_type": "code",
        "colab": {
          "autoexec": {
            "startup": false,
            "wait_interval": 0
          }
        }
      },
      "cell_type": "code",
      "source": [
        "Y_train = np_utils.to_categorical(y_train, nb_classes)\n",
        "Y_test = np_utils.to_categorical(y_test, nb_classes)"
      ],
      "execution_count": 0,
      "outputs": []
    },
    {
      "metadata": {
        "id": "WSFwx8AxrN4-",
        "colab_type": "code",
        "colab": {
          "autoexec": {
            "startup": false,
            "wait_interval": 0
          }
        }
      },
      "cell_type": "code",
      "source": [
        "model = Sequential()\n",
        "model.add(Dense(512, input_shape=(784,)))\n",
        "model.add(Activation('relu')) \n",
        "model.add(Dropout(0.2))\n",
        "model.add(Dense(512))\n",
        "model.add(Activation('relu'))\n",
        "model.add(Dropout(0.2))\n",
        "model.add(Dense(10))\n",
        "model.add(Activation('softmax')) "
      ],
      "execution_count": 0,
      "outputs": []
    },
    {
      "metadata": {
        "id": "9C7RojtlsRlp",
        "colab_type": "code",
        "colab": {
          "autoexec": {
            "startup": false,
            "wait_interval": 0
          }
        }
      },
      "cell_type": "code",
      "source": [
        "model.compile(loss='categorical_crossentropy', optimizer='adam',metrics=['acc'])"
      ],
      "execution_count": 0,
      "outputs": []
    },
    {
      "metadata": {
        "id": "AOSWAK1FsTwp",
        "colab_type": "code",
        "colab": {
          "autoexec": {
            "startup": false,
            "wait_interval": 0
          },
          "base_uri": "https://localhost:8080/",
          "height": 207
        },
        "outputId": "1e838b2c-dcb1-4952-ec04-6a9e7328575b",
        "executionInfo": {
          "status": "ok",
          "timestamp": 1528032063838,
          "user_tz": -120,
          "elapsed": 49667,
          "user": {
            "displayName": "Jannes Klaas",
            "photoUrl": "https://lh3.googleusercontent.com/a/default-user=s128",
            "userId": "115843019312458301179"
          }
        }
      },
      "cell_type": "code",
      "source": [
        "model.fit(X_train, Y_train, batch_size = 128, epochs=4, validation_data=(X_test, Y_test))"
      ],
      "execution_count": 28,
      "outputs": [
        {
          "output_type": "stream",
          "text": [
            "Train on 60000 samples, validate on 10000 samples\n",
            "Epoch 1/4\n",
            "60000/60000 [==============================] - 13s 218us/step - loss: 0.2444 - acc: 0.9269 - val_loss: 0.1056 - val_acc: 0.9654\n",
            "Epoch 2/4\n",
            "60000/60000 [==============================] - 12s 197us/step - loss: 0.1025 - acc: 0.9692 - val_loss: 0.0824 - val_acc: 0.9748\n",
            "Epoch 3/4\n",
            "18688/60000 [========>.....................] - ETA: 7s - loss: 0.0715 - acc: 0.9783"
          ],
          "name": "stdout"
        },
        {
          "output_type": "stream",
          "text": [
            "60000/60000 [==============================] - 12s 195us/step - loss: 0.0724 - acc: 0.9774 - val_loss: 0.0684 - val_acc: 0.9792\n",
            "Epoch 4/4\n",
            "60000/60000 [==============================] - 12s 199us/step - loss: 0.0546 - acc: 0.9827 - val_loss: 0.0664 - val_acc: 0.9802\n"
          ],
          "name": "stdout"
        },
        {
          "output_type": "execute_result",
          "data": {
            "text/plain": [
              "<keras.callbacks.History at 0x7f4c61c8e9e8>"
            ]
          },
          "metadata": {
            "tags": []
          },
          "execution_count": 28
        }
      ]
    },
    {
      "metadata": {
        "id": "UWSozJxYtg5Q",
        "colab_type": "code",
        "colab": {
          "autoexec": {
            "startup": false,
            "wait_interval": 0
          }
        }
      },
      "cell_type": "code",
      "source": [
        "model = Sequential()\n",
        "model.add(Dense(512, input_shape=(784,)))\n",
        "model.add(Activation('relu')) \n",
        "model.add(Dropout(0.2))\n",
        "model.add(Dense(512))\n",
        "model.add(Activation('relu'))\n",
        "model.add(Dropout(0.2))\n",
        "model.add(Dense(10))\n",
        "model.add(Activation('softmax')) "
      ],
      "execution_count": 0,
      "outputs": []
    },
    {
      "metadata": {
        "id": "I5Jlu4s-tkKQ",
        "colab_type": "code",
        "colab": {
          "autoexec": {
            "startup": false,
            "wait_interval": 0
          }
        }
      },
      "cell_type": "code",
      "source": [
        "from keras.optimizers import Adam"
      ],
      "execution_count": 0,
      "outputs": []
    },
    {
      "metadata": {
        "id": "Ub6p12C2uYJM",
        "colab_type": "code",
        "colab": {
          "autoexec": {
            "startup": false,
            "wait_interval": 0
          },
          "base_uri": "https://localhost:8080/",
          "height": 717
        },
        "outputId": "5d10f962-7845-4c86-eacc-d24b0bd09a80",
        "executionInfo": {
          "status": "ok",
          "timestamp": 1528032338945,
          "user_tz": -120,
          "elapsed": 273461,
          "user": {
            "displayName": "Jannes Klaas",
            "photoUrl": "https://lh3.googleusercontent.com/a/default-user=s128",
            "userId": "115843019312458301179"
          }
        }
      },
      "cell_type": "code",
      "source": [
        "init_lr = 1e-6\n",
        "losses = []\n",
        "lrs = []\n",
        "for i in range(20):\n",
        "  model = Sequential()\n",
        "  model.add(Dense(512, input_shape=(784,)))\n",
        "  model.add(Activation('relu')) \n",
        "  model.add(Dropout(0.2))\n",
        "  model.add(Dense(512))\n",
        "  model.add(Activation('relu'))\n",
        "  model.add(Dropout(0.2))\n",
        "  model.add(Dense(10))\n",
        "  model.add(Activation('softmax')) \n",
        "  opt = Adam(lr=init_lr*2**i)\n",
        "\n",
        "  model.compile(loss='categorical_crossentropy', optimizer=opt,metrics=['acc'])\n",
        "\n",
        "\n",
        "  hist = model.fit(X_train, Y_train, batch_size = 128, epochs=1)\n",
        "\n",
        "  loss = hist.history['loss'][0]\n",
        "  losses.append(loss)\n",
        "  lrs.append(init_lr*2**i)"
      ],
      "execution_count": 31,
      "outputs": [
        {
          "output_type": "stream",
          "text": [
            "Epoch 1/1\n",
            "60000/60000 [==============================] - 13s 213us/step - loss: 2.2732 - acc: 0.1354\n",
            "Epoch 1/1\n",
            "60000/60000 [==============================] - 13s 213us/step - loss: 2.2564 - acc: 0.1626\n",
            "Epoch 1/1\n",
            "50816/60000 [========================>.....] - ETA: 2s - loss: 2.1483 - acc: 0.2956"
          ],
          "name": "stdout"
        },
        {
          "output_type": "stream",
          "text": [
            "60000/60000 [==============================] - 13s 216us/step - loss: 2.1169 - acc: 0.3264\n",
            "Epoch 1/1\n",
            "60000/60000 [==============================] - 13s 220us/step - loss: 1.9342 - acc: 0.4650\n",
            "Epoch 1/1\n",
            "60000/60000 [==============================] - 13s 216us/step - loss: 1.5262 - acc: 0.6157\n",
            "Epoch 1/1\n",
            " 7808/60000 [==>...........................]"
          ],
          "name": "stdout"
        },
        {
          "output_type": "stream",
          "text": [
            "60000/60000 [==============================] - 13s 215us/step - loss: 1.0999 - acc: 0.7229\n",
            "Epoch 1/1\n",
            "60000/60000 [==============================] - 13s 216us/step - loss: 0.7590 - acc: 0.7997\n",
            "Epoch 1/1\n",
            "60000/60000 [==============================] - 13s 215us/step - loss: 0.5506 - acc: 0.8497\n",
            "Epoch 1/1\n",
            " 1152/60000 [..............................] - ETA: 1:36 - loss: 2.1497 - acc: 0.2899"
          ],
          "name": "stdout"
        },
        {
          "output_type": "stream",
          "text": [
            "60000/60000 [==============================] - 13s 215us/step - loss: 0.4071 - acc: 0.8853\n",
            "Epoch 1/1\n",
            "60000/60000 [==============================] - 13s 215us/step - loss: 0.3087 - acc: 0.9093\n",
            "Epoch 1/1\n",
            "60000/60000 [==============================] - 13s 216us/step - loss: 0.2476 - acc: 0.9260\n",
            "Epoch 1/1\n",
            " 1536/60000 [..............................] - ETA: 1:18 - loss: 1.1254 - acc: 0.6452"
          ],
          "name": "stdout"
        },
        {
          "output_type": "stream",
          "text": [
            "60000/60000 [==============================] - 13s 220us/step - loss: 0.2221 - acc: 0.9316\n",
            "Epoch 1/1\n",
            "60000/60000 [==============================] - 13s 219us/step - loss: 0.2312 - acc: 0.9293\n",
            "Epoch 1/1\n",
            "60000/60000 [==============================] - 13s 218us/step - loss: 0.2984 - acc: 0.9121\n",
            "Epoch 1/1\n",
            "  384/60000 [..............................] - ETA: 5:02 - loss: 5.3978 - acc: 0.1172 "
          ],
          "name": "stdout"
        },
        {
          "output_type": "stream",
          "text": [
            "60000/60000 [==============================] - 13s 220us/step - loss: 0.6236 - acc: 0.8478\n",
            "Epoch 1/1\n",
            "60000/60000 [==============================] - 14s 227us/step - loss: 14.5157 - acc: 0.0977\n",
            "Epoch 1/1\n",
            "54912/60000 [==========================>...] - ETA: 1s - loss: 14.5015 - acc: 0.0985"
          ],
          "name": "stdout"
        },
        {
          "output_type": "stream",
          "text": [
            "60000/60000 [==============================] - 14s 227us/step - loss: 14.5045 - acc: 0.0985\n",
            "Epoch 1/1\n",
            "60000/60000 [==============================] - 13s 223us/step - loss: 14.4954 - acc: 0.0990\n",
            "Epoch 1/1\n",
            "60000/60000 [==============================] - 13s 222us/step - loss: 14.4533 - acc: 0.1017\n",
            "Epoch 1/1\n",
            "11392/60000 [====>.........................] - ETA: 18s - loss: 14.2726 - acc: 0.1064"
          ],
          "name": "stdout"
        },
        {
          "output_type": "stream",
          "text": [
            "60000/60000 [==============================] - 14s 226us/step - loss: 14.3993 - acc: 0.1051\n"
          ],
          "name": "stdout"
        }
      ]
    },
    {
      "metadata": {
        "id": "MN-wiXxLu3Q6",
        "colab_type": "code",
        "colab": {
          "autoexec": {
            "startup": false,
            "wait_interval": 0
          },
          "base_uri": "https://localhost:8080/",
          "height": 432
        },
        "outputId": "cbb94e6b-0d16-4991-87d5-cebd7c36c717",
        "executionInfo": {
          "status": "ok",
          "timestamp": 1528032339934,
          "user_tz": -120,
          "elapsed": 946,
          "user": {
            "displayName": "Jannes Klaas",
            "photoUrl": "https://lh3.googleusercontent.com/a/default-user=s128",
            "userId": "115843019312458301179"
          }
        }
      },
      "cell_type": "code",
      "source": [
        "#lrs[0] = init_lr\n",
        "fig, ax = plt.subplots(figsize = (10,7))\n",
        "plt.plot(lrs,losses)\n",
        "ax.set_xscale('log')"
      ],
      "execution_count": 32,
      "outputs": [
        {
          "output_type": "display_data",
          "data": {
            "image/png": "[encoded data removed]",
            "text/plain": [
              "<matplotlib.figure.Figure at 0x7f4c61dbf198>"
            ]
          },
          "metadata": {
            "tags": []
          }
        }
      ]
    },
    {
      "metadata": {
        "id": "g3R8-0s2vZT6",
        "colab_type": "code",
        "colab": {
          "autoexec": {
            "startup": false,
            "wait_interval": 0
          },
          "base_uri": "https://localhost:8080/",
          "height": 170
        },
        "outputId": "6509ad3c-c535-4936-feb4-003306e04668",
        "executionInfo": {
          "status": "ok",
          "timestamp": 1528014652823,
          "user_tz": -120,
          "elapsed": 16748,
          "user": {
            "displayName": "Jannes Klaas",
            "photoUrl": "https://lh3.googleusercontent.com/a/default-user=s128",
            "userId": "115843019312458301179"
          }
        }
      },
      "cell_type": "code",
      "source": [
        "i = 1\n",
        "\n",
        "model = Sequential()\n",
        "model.add(Dense(512, input_shape=(784,)))\n",
        "model.add(Activation('relu')) \n",
        "model.add(Dropout(0.2))\n",
        "model.add(Dense(512))\n",
        "model.add(Activation('relu'))\n",
        "model.add(Dropout(0.2))\n",
        "model.add(Dense(10))\n",
        "model.add(Activation('softmax')) \n",
        "opt = Adam(lr=init_lr*2**i)\n",
        "\n",
        "model.compile(loss='categorical_crossentropy', optimizer=opt,metrics=['acc'])\n",
        "\n",
        "\n",
        "hist = model.fit(X_train, Y_train, batch_size = 128, epochs=1)\n",
        "\n",
        "loss = hist.history['loss'][0]"
      ],
      "execution_count": 66,
      "outputs": [
        {
          "output_type": "stream",
          "text": [
            "Train on 60000 samples, validate on 10000 samples\n",
            "Epoch 1/4\n",
            "60000/60000 [==============================] - 4s 70us/step - loss: 0.4450 - acc: 0.8750 - val_loss: 0.1921 - val_acc: 0.9418\n",
            "Epoch 2/4\n",
            "60000/60000 [==============================] - 4s 64us/step - loss: 0.1795 - acc: 0.9481 - val_loss: 0.1301 - val_acc: 0.9610\n",
            "Epoch 3/4\n",
            "60000/60000 [==============================] - 4s 66us/step - loss: 0.1293 - acc: 0.9626 - val_loss: 0.0996 - val_acc: 0.9683\n",
            "Epoch 4/4\n",
            "60000/60000 [==============================] - 4s 64us/step - loss: 0.0996 - acc: 0.9702 - val_loss: 0.0878 - val_acc: 0.9727\n"
          ],
          "name": "stdout"
        }
      ]
    },
    {
      "metadata": {
        "id": "VEqJqsYKxQPU",
        "colab_type": "code",
        "colab": {
          "autoexec": {
            "startup": false,
            "wait_interval": 0
          },
          "base_uri": "https://localhost:8080/",
          "height": 34
        },
        "outputId": "991d4b7c-fb74-464e-9221-a400e4a3c406",
        "executionInfo": {
          "status": "ok",
          "timestamp": 1528014705865,
          "user_tz": -120,
          "elapsed": 498,
          "user": {
            "displayName": "Jannes Klaas",
            "photoUrl": "https://lh3.googleusercontent.com/a/default-user=s128",
            "userId": "115843019312458301179"
          }
        }
      },
      "cell_type": "code",
      "source": [
        "hist.history['loss'][0]"
      ],
      "execution_count": 69,
      "outputs": [
        {
          "output_type": "execute_result",
          "data": {
            "text/plain": [
              "0.4450331950267156"
            ]
          },
          "metadata": {
            "tags": []
          },
          "execution_count": 69
        }
      ]
    },
    {
      "metadata": {
        "id": "XdPPPNIexXlX",
        "colab_type": "code",
        "colab": {
          "autoexec": {
            "startup": false,
            "wait_interval": 0
          }
        }
      },
      "cell_type": "code",
      "source": [
        ""
      ],
      "execution_count": 0,
      "outputs": []
    }
  ]
}